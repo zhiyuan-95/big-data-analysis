{
  "cells": [
    {
      "cell_type": "code",
      "execution_count": 1,
      "metadata": {
        "id": "oqIJJkeFfWn0"
      },
      "outputs": [],
      "source": [
        "!gdown -q --fuzzy 1_1ecJ3ZD-c7mgzpE0JNpWBpaT3xqzuEM -O weekly-patterns-nyc-2019-2020-sample.csv"
      ]
    },
    {
      "cell_type": "code",
      "execution_count": 2,
      "metadata": {
        "colab": {
          "base_uri": "https://localhost:8080/"
        },
        "id": "lpGin4O9fdDd",
        "outputId": "72881286-80d5-4ea4-fc41-632d61e89fdf"
      },
      "outputs": [
        {
          "output_type": "stream",
          "name": "stdout",
          "text": [
            "\u001b[2K     \u001b[90m━━━━━━━━━━━━━━━━━━━━━━━━━━━━━━━━━━━━━━━\u001b[0m \u001b[32m310.8/310.8 MB\u001b[0m \u001b[31m4.5 MB/s\u001b[0m eta \u001b[36m0:00:00\u001b[0m\n",
            "\u001b[?25h  Preparing metadata (setup.py) ... \u001b[?25l\u001b[?25hdone\n",
            "  Building wheel for pyspark (setup.py) ... \u001b[?25l\u001b[?25hdone\n",
            "\u001b[2K     \u001b[90m━━━━━━━━━━━━━━━━━━━━━━━━━━━━━━━━━━━━━━━━\u001b[0m \u001b[32m7.7/7.7 MB\u001b[0m \u001b[31m100.5 MB/s\u001b[0m eta \u001b[36m0:00:00\u001b[0m\n",
            "\u001b[?25h"
          ]
        },
        {
          "output_type": "execute_result",
          "data": {
            "text/plain": []
          },
          "metadata": {},
          "execution_count": 2
        }
      ],
      "source": [
        "%%shell\n",
        "pip --quiet install pyspark\n",
        "pip --quiet install pyproj"
      ]
    },
    {
      "cell_type": "code",
      "execution_count": 3,
      "metadata": {
        "colab": {
          "base_uri": "https://localhost:8080/",
          "height": 222
        },
        "id": "xF51OzLYfxqT",
        "outputId": "e27880dc-f085-4d95-b647-000a8eef9d18"
      },
      "outputs": [
        {
          "output_type": "execute_result",
          "data": {
            "text/plain": [
              "<pyspark.sql.session.SparkSession at 0x7fb3f5febca0>"
            ],
            "text/html": [
              "\n",
              "            <div>\n",
              "                <p><b>SparkSession - in-memory</b></p>\n",
              "                \n",
              "        <div>\n",
              "            <p><b>SparkContext</b></p>\n",
              "\n",
              "            <p><a href=\"http://4dcfb3517d02:4040\">Spark UI</a></p>\n",
              "\n",
              "            <dl>\n",
              "              <dt>Version</dt>\n",
              "                <dd><code>v3.4.0</code></dd>\n",
              "              <dt>Master</dt>\n",
              "                <dd><code>local[*]</code></dd>\n",
              "              <dt>AppName</dt>\n",
              "                <dd><code>pyspark-shell</code></dd>\n",
              "            </dl>\n",
              "        </div>\n",
              "        \n",
              "            </div>\n",
              "        "
            ]
          },
          "metadata": {},
          "execution_count": 3
        }
      ],
      "source": [
        "import pandas as pd\n",
        "import json\n",
        "import pyspark\n",
        "from pyspark.sql import SparkSession\n",
        "from pyspark.sql import functions as F\n",
        "from pyspark.sql import types as T\n",
        "sc = pyspark.SparkContext.getOrCreate()\n",
        "spark = SparkSession(sc)\n",
        "spark"
      ]
    },
    {
      "cell_type": "code",
      "execution_count": 4,
      "metadata": {
        "id": "4ZZUWO-ufqLr"
      },
      "outputs": [],
      "source": [
        "weekly_pattern_csv = 'weekly-patterns-nyc-2019-2020-sample.csv'\n",
        "weekly_pattern0 = sc.textFile(weekly_pattern_csv, use_unicode=True).cache()"
      ]
    },
    {
      "cell_type": "code",
      "execution_count": 5,
      "metadata": {
        "colab": {
          "base_uri": "https://localhost:8080/"
        },
        "id": "7PppqkouhSou",
        "outputId": "1e6475c7-b19d-4b6b-811a-44aff0c282b2"
      },
      "outputs": [
        {
          "output_type": "execute_result",
          "data": {
            "text/plain": [
              "28"
            ]
          },
          "metadata": {},
          "execution_count": 5
        }
      ],
      "source": [
        "columns = weekly_pattern0.take(1)\n",
        "len(columns[0].split(','))"
      ]
    },
    {
      "cell_type": "code",
      "source": [],
      "metadata": {
        "id": "rETKg8VwsdUe"
      },
      "execution_count": 9,
      "outputs": []
    },
    {
      "cell_type": "code",
      "execution_count": 10,
      "metadata": {
        "id": "Tk3YHgCnfhKM"
      },
      "outputs": [],
      "source": [
        "#In this challenge, we are only interested in the safegraph_placekey column \n",
        "# which matches the placekey column in the Weekly Pattern dataset.\n",
        "nyc_supermarkets = pd.read_csv('nyc_supermarkets.csv')\n",
        "nyc_supermarkets = list(nyc_supermarkets['safegraph_placekey'])"
      ]
    },
    {
      "cell_type": "code",
      "source": [
        "nyc_supermarkets[:3]"
      ],
      "metadata": {
        "colab": {
          "base_uri": "https://localhost:8080/"
        },
        "id": "jiO_k3DS0kwN",
        "outputId": "91c7605d-9f9d-47b6-da3a-1c2980108f92"
      },
      "execution_count": 11,
      "outputs": [
        {
          "output_type": "execute_result",
          "data": {
            "text/plain": [
              "['228-222@627-s8r-66k', '22j-222@627-s8j-bff', 'zzy-222@627-s8j-99f']"
            ]
          },
          "metadata": {},
          "execution_count": 11
        }
      ]
    },
    {
      "cell_type": "code",
      "execution_count": 12,
      "metadata": {
        "id": "B4cBhRbn8d5Q"
      },
      "outputs": [],
      "source": [
        "# This CSV file contains the centroid location for each census block group (CBG).\n",
        "# This information will be useful in computing the haversine distance between two CBGs. \n",
        "# cbg_fips refers to the FIPS code of the CBGs used in Safegraph\n",
        "nyc_cbg_centroids = pd.read_csv('nyc_cbg_centroids.csv')\n",
        "nyc_cbg_centroids.index = [str(x) for x in nyc_cbg_centroids['cbg_fips']]\n",
        "cbg_fips = nyc_cbg_centroids.drop(columns = ['cbg_fips'])\n",
        "cbg = list(cbg_fips.index)"
      ]
    },
    {
      "cell_type": "code",
      "source": [
        "cbg_fips[:3]"
      ],
      "metadata": {
        "colab": {
          "base_uri": "https://localhost:8080/",
          "height": 143
        },
        "id": "lWmLKxF80ra7",
        "outputId": "b8ab6418-e6b2-4473-a911-1a8c07b75d67"
      },
      "execution_count": 13,
      "outputs": [
        {
          "output_type": "execute_result",
          "data": {
            "text/plain": [
              "               latitude  longitude\n",
              "360050001000  40.798418 -73.888787\n",
              "360050001001  40.791133 -73.882652\n",
              "360050002001  40.813969 -73.860872"
            ],
            "text/html": [
              "\n",
              "  <div id=\"df-8b915ac4-e253-480b-b766-0cbf4e2f6269\">\n",
              "    <div class=\"colab-df-container\">\n",
              "      <div>\n",
              "<style scoped>\n",
              "    .dataframe tbody tr th:only-of-type {\n",
              "        vertical-align: middle;\n",
              "    }\n",
              "\n",
              "    .dataframe tbody tr th {\n",
              "        vertical-align: top;\n",
              "    }\n",
              "\n",
              "    .dataframe thead th {\n",
              "        text-align: right;\n",
              "    }\n",
              "</style>\n",
              "<table border=\"1\" class=\"dataframe\">\n",
              "  <thead>\n",
              "    <tr style=\"text-align: right;\">\n",
              "      <th></th>\n",
              "      <th>latitude</th>\n",
              "      <th>longitude</th>\n",
              "    </tr>\n",
              "  </thead>\n",
              "  <tbody>\n",
              "    <tr>\n",
              "      <th>360050001000</th>\n",
              "      <td>40.798418</td>\n",
              "      <td>-73.888787</td>\n",
              "    </tr>\n",
              "    <tr>\n",
              "      <th>360050001001</th>\n",
              "      <td>40.791133</td>\n",
              "      <td>-73.882652</td>\n",
              "    </tr>\n",
              "    <tr>\n",
              "      <th>360050002001</th>\n",
              "      <td>40.813969</td>\n",
              "      <td>-73.860872</td>\n",
              "    </tr>\n",
              "  </tbody>\n",
              "</table>\n",
              "</div>\n",
              "      <button class=\"colab-df-convert\" onclick=\"convertToInteractive('df-8b915ac4-e253-480b-b766-0cbf4e2f6269')\"\n",
              "              title=\"Convert this dataframe to an interactive table.\"\n",
              "              style=\"display:none;\">\n",
              "        \n",
              "  <svg xmlns=\"http://www.w3.org/2000/svg\" height=\"24px\"viewBox=\"0 0 24 24\"\n",
              "       width=\"24px\">\n",
              "    <path d=\"M0 0h24v24H0V0z\" fill=\"none\"/>\n",
              "    <path d=\"M18.56 5.44l.94 2.06.94-2.06 2.06-.94-2.06-.94-.94-2.06-.94 2.06-2.06.94zm-11 1L8.5 8.5l.94-2.06 2.06-.94-2.06-.94L8.5 2.5l-.94 2.06-2.06.94zm10 10l.94 2.06.94-2.06 2.06-.94-2.06-.94-.94-2.06-.94 2.06-2.06.94z\"/><path d=\"M17.41 7.96l-1.37-1.37c-.4-.4-.92-.59-1.43-.59-.52 0-1.04.2-1.43.59L10.3 9.45l-7.72 7.72c-.78.78-.78 2.05 0 2.83L4 21.41c.39.39.9.59 1.41.59.51 0 1.02-.2 1.41-.59l7.78-7.78 2.81-2.81c.8-.78.8-2.07 0-2.86zM5.41 20L4 18.59l7.72-7.72 1.47 1.35L5.41 20z\"/>\n",
              "  </svg>\n",
              "      </button>\n",
              "      \n",
              "  <style>\n",
              "    .colab-df-container {\n",
              "      display:flex;\n",
              "      flex-wrap:wrap;\n",
              "      gap: 12px;\n",
              "    }\n",
              "\n",
              "    .colab-df-convert {\n",
              "      background-color: #E8F0FE;\n",
              "      border: none;\n",
              "      border-radius: 50%;\n",
              "      cursor: pointer;\n",
              "      display: none;\n",
              "      fill: #1967D2;\n",
              "      height: 32px;\n",
              "      padding: 0 0 0 0;\n",
              "      width: 32px;\n",
              "    }\n",
              "\n",
              "    .colab-df-convert:hover {\n",
              "      background-color: #E2EBFA;\n",
              "      box-shadow: 0px 1px 2px rgba(60, 64, 67, 0.3), 0px 1px 3px 1px rgba(60, 64, 67, 0.15);\n",
              "      fill: #174EA6;\n",
              "    }\n",
              "\n",
              "    [theme=dark] .colab-df-convert {\n",
              "      background-color: #3B4455;\n",
              "      fill: #D2E3FC;\n",
              "    }\n",
              "\n",
              "    [theme=dark] .colab-df-convert:hover {\n",
              "      background-color: #434B5C;\n",
              "      box-shadow: 0px 1px 3px 1px rgba(0, 0, 0, 0.15);\n",
              "      filter: drop-shadow(0px 1px 2px rgba(0, 0, 0, 0.3));\n",
              "      fill: #FFFFFF;\n",
              "    }\n",
              "  </style>\n",
              "\n",
              "      <script>\n",
              "        const buttonEl =\n",
              "          document.querySelector('#df-8b915ac4-e253-480b-b766-0cbf4e2f6269 button.colab-df-convert');\n",
              "        buttonEl.style.display =\n",
              "          google.colab.kernel.accessAllowed ? 'block' : 'none';\n",
              "\n",
              "        async function convertToInteractive(key) {\n",
              "          const element = document.querySelector('#df-8b915ac4-e253-480b-b766-0cbf4e2f6269');\n",
              "          const dataTable =\n",
              "            await google.colab.kernel.invokeFunction('convertToInteractive',\n",
              "                                                     [key], {});\n",
              "          if (!dataTable) return;\n",
              "\n",
              "          const docLinkHtml = 'Like what you see? Visit the ' +\n",
              "            '<a target=\"_blank\" href=https://colab.research.google.com/notebooks/data_table.ipynb>data table notebook</a>'\n",
              "            + ' to learn more about interactive tables.';\n",
              "          element.innerHTML = '';\n",
              "          dataTable['output_type'] = 'display_data';\n",
              "          await google.colab.output.renderOutput(dataTable, element);\n",
              "          const docLink = document.createElement('div');\n",
              "          docLink.innerHTML = docLinkHtml;\n",
              "          element.appendChild(docLink);\n",
              "        }\n",
              "      </script>\n",
              "    </div>\n",
              "  </div>\n",
              "  "
            ]
          },
          "metadata": {},
          "execution_count": 13
        }
      ]
    },
    {
      "cell_type": "code",
      "execution_count": 14,
      "metadata": {
        "id": "N9u1azrIB3Qi"
      },
      "outputs": [],
      "source": [
        "columns_interested = ['\"placekey\"','\"poi_cbg\"','\"visitor_home_cbgs\"', '\"date_range_start\"','\"date_range_end\"']\n",
        "index = []\n",
        "for x in columns_interested:\n",
        "  index.append(columns[0].split(',').index(x))"
      ]
    },
    {
      "cell_type": "code",
      "execution_count": 15,
      "metadata": {
        "id": "renkeBGf4tbv"
      },
      "outputs": [],
      "source": [
        "def skipFirst(part_id,rows):\n",
        "  if part_id == 0:\n",
        "    next(rows)\n",
        "  for row in rows:\n",
        "    yield row"
      ]
    },
    {
      "cell_type": "code",
      "execution_count": 16,
      "metadata": {
        "id": "xVbew3YnhVpp"
      },
      "outputs": [],
      "source": [
        "weekly_pattern = weekly_pattern0.mapPartitionsWithIndex(skipFirst)"
      ]
    },
    {
      "cell_type": "code",
      "execution_count": 17,
      "metadata": {
        "id": "8CUuRN1V7hRQ"
      },
      "outputs": [],
      "source": [
        "import re\n",
        "def modify(row):\n",
        "    pattern = '[\\[{](.*?)[\\]}]'\n",
        "    matches = re.finditer(pattern,row)\n",
        "    positions = []\n",
        "    for match in matches:\n",
        "        positions.append((match.start(), match.end()))\n",
        "    quot_modified = []\n",
        "    if len(positions)>0:\n",
        "        for x in positions:\n",
        "            target_quot = row[x[0]:x[1]]\n",
        "            replacement_quot = re.sub(\",\",\"_\", target_quot)\n",
        "            quot_modified.append((replacement_quot,x))\n",
        "        output_row = row\n",
        "        for y in quot_modified:\n",
        "            output_row = output_row[:y[1][0]]+y[0]+output_row[y[1][1]:]\n",
        "        return output_row.lower().split(',')\n",
        "    else:\n",
        "        return row.lower().split(',')"
      ]
    },
    {
      "cell_type": "code",
      "execution_count": 18,
      "metadata": {
        "id": "71zkX4JJRyIl"
      },
      "outputs": [],
      "source": [
        "def modify_visitor_home_cgbs(row):\n",
        "  vhc = row[2][2:-2].split('_')\n",
        "  vhc1 = [x.split(':') for x in vhc]\n",
        "  out = []\n",
        "  for x in vhc1:\n",
        "    if len(x)==2:\n",
        "      out.append((x[0][2:-2],x[1]))\n",
        "  return row[0],row[1],out,row[3],row[4]"
      ]
    },
    {
      "cell_type": "code",
      "execution_count": 19,
      "metadata": {
        "colab": {
          "base_uri": "https://localhost:8080/"
        },
        "id": "4VRfRS7A-v_b",
        "outputId": "d0057745-d2e6-4f8e-c694-34571c5f8b8c"
      },
      "outputs": [
        {
          "output_type": "execute_result",
          "data": {
            "text/plain": [
              "907"
            ]
          },
          "metadata": {},
          "execution_count": 19
        }
      ],
      "source": [
        "approach_step1 = weekly_pattern.map(modify)\\\n",
        "                                .map(lambda x:(x[index[0]],x[index[1]],x[index[2]],x[index[3]],x[index[4]]))\\\n",
        "                                .map(modify_visitor_home_cgbs)\\\n",
        "                                .filter(lambda x: x[0] in nyc_supermarkets)\n",
        "\n",
        "approach_step1.count()"
      ]
    },
    {
      "cell_type": "code",
      "source": [
        "approach_step1.take(2)"
      ],
      "metadata": {
        "colab": {
          "base_uri": "https://localhost:8080/"
        },
        "id": "dbQ0i7TZUrrS",
        "outputId": "3682026d-67c0-454b-e73c-01af429d97d6"
      },
      "execution_count": 20,
      "outputs": [
        {
          "output_type": "execute_result",
          "data": {
            "text/plain": [
              "[('23d-222@627-s9v-qzz',\n",
              "  '360810096001',\n",
              "  [('360810166001', '4'), ('360810096001', '4'), ('360810098002', '4')],\n",
              "  '2018-12-31t00:00:00-05:00',\n",
              "  '2019-01-07t00:00:00-05:00'),\n",
              " ('235-222@627-wc3-9zz',\n",
              "  '360470045001',\n",
              "  [('360470121001', '7'),\n",
              "   ('360470114003', '6'),\n",
              "   ('360470265003', '5'),\n",
              "   ('360470047001', '4'),\n",
              "   ('360470075004', '4'),\n",
              "   ('360470377003', '4'),\n",
              "   ('360470149002', '4'),\n",
              "   ('360470343001', '4'),\n",
              "   ('360810456001', '4'),\n",
              "   ('360470063002', '4'),\n",
              "   ('360470069002', '4'),\n",
              "   ('360470740002', '4'),\n",
              "   ('360470325002', '4'),\n",
              "   ('360470007002', '4'),\n",
              "   ('360470377002', '4'),\n",
              "   ('360810269012', '4'),\n",
              "   ('360470135003', '4'),\n",
              "   ('360470067002', '4'),\n",
              "   ('360471128002', '4'),\n",
              "   ('360470558002', '4'),\n",
              "   ('360470315002', '4'),\n",
              "   ('360471502003', '4'),\n",
              "   ('360470045001', '4'),\n",
              "   ('360610188004', '4'),\n",
              "   ('360470343003', '4'),\n",
              "   ('360470143003', '4'),\n",
              "   ('360811579015', '4'),\n",
              "   ('360470678001', '4'),\n",
              "   ('360470800002', '4'),\n",
              "   ('360470007001', '4'),\n",
              "   ('360850040004', '4'),\n",
              "   ('360470045002', '4'),\n",
              "   ('360470357001', '4'),\n",
              "   ('360470327001', '4'),\n",
              "   ('360470504003', '4'),\n",
              "   ('360470271001', '4'),\n",
              "   ('360470059001', '4')],\n",
              "  '2019-02-25t00:00:00-05:00',\n",
              "  '2019-03-04t00:00:00-05:00')]"
            ]
          },
          "metadata": {},
          "execution_count": 20
        }
      ]
    },
    {
      "cell_type": "code",
      "execution_count": 21,
      "metadata": {
        "id": "HrNKRzNVH9aX"
      },
      "outputs": [],
      "source": [
        "from datetime import datetime\n",
        "Mar_2019_start_str = '2019-03-01'\n",
        "Mar_2019_end_str = '2019-03-31'\n",
        "Mar_2019_start = datetime.strptime(Mar_2019_start_str,'%Y-%m-%d')\n",
        "Mar_2019_end = datetime.strptime(Mar_2019_end_str,'%Y-%m-%d')\n",
        "\n",
        "Oct_2019_start_str = '2019-10-01'\n",
        "Oct_2019_end_str = '2019-10-31'\n",
        "Oct_2019_start = datetime.strptime(Oct_2019_start_str,'%Y-%m-%d')\n",
        "Oct_2019_end = datetime.strptime(Oct_2019_end_str,'%Y-%m-%d')\n",
        "\n",
        "Mar_2020_start_str = '2020-03-01'\n",
        "Mar_2020_end_str = '2020-03-31'\n",
        "Mar_2020_start = datetime.strptime(Mar_2020_start_str,'%Y-%m-%d')\n",
        "Mar_2020_end = datetime.strptime(Mar_2020_end_str,'%Y-%m-%d')\n",
        "\n",
        "Oct_2020_start_str = '2020-10-01'\n",
        "Oct_2020_end_str = '2020-10-31'\n",
        "Oct_2020_start = datetime.strptime(Oct_2020_start_str,'%Y-%m-%d')\n",
        "Oct_2020_end = datetime.strptime(Oct_2020_end_str,'%Y-%m-%d')"
      ]
    },
    {
      "cell_type": "code",
      "execution_count": 22,
      "metadata": {
        "id": "eAYEcwuCzuzs"
      },
      "outputs": [],
      "source": [
        "def filter_date(row):\n",
        "  start = row[3]\n",
        "  end = row[4]\n",
        "  if Mar_2019_start <= end and start <= Mar_2019_end:\n",
        "    return True\n",
        "  elif Oct_2019_start <= end and start <= Oct_2019_end:\n",
        "    return True\n",
        "  elif Mar_2020_start <= end and start <= Mar_2020_end:\n",
        "    return True\n",
        "  elif Oct_2020_start <= end and start <= Oct_2020_end:\n",
        "    return True\n",
        "  else:\n",
        "    return False"
      ]
    },
    {
      "cell_type": "code",
      "execution_count": 23,
      "metadata": {
        "colab": {
          "base_uri": "https://localhost:8080/"
        },
        "id": "hn-ZSy8gVyAw",
        "outputId": "f7335e70-c420-436c-ee55-3e3502f14f0b"
      },
      "outputs": [
        {
          "output_type": "execute_result",
          "data": {
            "text/plain": [
              "201"
            ]
          },
          "metadata": {},
          "execution_count": 23
        }
      ],
      "source": [
        "approach_step2 = approach_step1.map(lambda x: (x[0],x[1],x[2],datetime.strptime(x[3][:10],'%Y-%m-%d'),datetime.strptime(x[4][:10],'%Y-%m-%d')))\\\n",
        "                                .filter(filter_date)\n",
        "approach_step2.count()"
      ]
    },
    {
      "cell_type": "code",
      "source": [
        "# transform to EPSG2263\n",
        "import pyproj\n",
        "proj = pyproj.Proj(init='EPSG:2263', preserve_units=True)\n",
        "cbg_fips_proj = cbg_fips.apply(lambda row: proj(row['longitude'],row['latitude']), axis=1)"
      ],
      "metadata": {
        "colab": {
          "base_uri": "https://localhost:8080/"
        },
        "id": "MKCfI-AJ9B7h",
        "outputId": "bf1b648a-9b31-4eaa-b528-dd619d082e0f"
      },
      "execution_count": 24,
      "outputs": [
        {
          "output_type": "stream",
          "name": "stderr",
          "text": [
            "/usr/local/lib/python3.10/dist-packages/pyproj/crs/crs.py:141: FutureWarning: '+init=<authority>:<code>' syntax is deprecated. '<authority>:<code>' is the preferred initialization method. When making the change, be mindful of axis order changes: https://pyproj4.github.io/pyproj/stable/gotchas.html#axis-order-changes-in-proj-6\n",
            "  in_crs_string = _prepare_from_proj_string(in_crs_string)\n"
          ]
        }
      ]
    },
    {
      "cell_type": "code",
      "source": [
        "import numpy as np\n",
        "# used vistor home cbgs as the travel origin, and get distance between the store and visitors\n",
        "def visitor_distance(rows):\n",
        "  for x in rows:\n",
        "    start = x[3]\n",
        "    end = x[4]\n",
        "    store = x[1]\n",
        "    for visitors in x[2]:\n",
        "      if visitors[0] in cbg:\n",
        "        store_loc = np.array(cbg_fips_proj[store])\n",
        "        visitor_loc = np.array(cbg_fips_proj[visitors[0]])\n",
        "        distance = float(np.sqrt(sum((store_loc-visitor_loc)**2)))\n",
        "        if Mar_2019_start <= end and start <= Mar_2019_end:\n",
        "          yield visitors[0],(0,distance/5280,int(visitors[1]))\n",
        "        elif Oct_2019_start <= end and start <= Oct_2019_end:\n",
        "          yield visitors[0],(1,distance/5280,int(visitors[1]))\n",
        "        elif Mar_2020_start <= end and start <= Mar_2020_end:\n",
        "          yield visitors[0],(2,distance/5280,int(visitors[1]))\n",
        "        elif Oct_2020_start <= end and start <= Oct_2020_end:\n",
        "          yield visitors[0],(3,distance/5280,int(visitors[1]))"
      ],
      "metadata": {
        "id": "Jbh2jVRP4INr"
      },
      "execution_count": 25,
      "outputs": []
    },
    {
      "cell_type": "code",
      "source": [
        "approach_step2.take(1)"
      ],
      "metadata": {
        "colab": {
          "base_uri": "https://localhost:8080/"
        },
        "id": "cawud2I6RZkE",
        "outputId": "af38af1f-e40e-4364-adc2-f66d7d2f1d48"
      },
      "execution_count": 26,
      "outputs": [
        {
          "output_type": "execute_result",
          "data": {
            "text/plain": [
              "[('235-222@627-wc3-9zz',\n",
              "  '360470045001',\n",
              "  [('360470121001', '7'),\n",
              "   ('360470114003', '6'),\n",
              "   ('360470265003', '5'),\n",
              "   ('360470047001', '4'),\n",
              "   ('360470075004', '4'),\n",
              "   ('360470377003', '4'),\n",
              "   ('360470149002', '4'),\n",
              "   ('360470343001', '4'),\n",
              "   ('360810456001', '4'),\n",
              "   ('360470063002', '4'),\n",
              "   ('360470069002', '4'),\n",
              "   ('360470740002', '4'),\n",
              "   ('360470325002', '4'),\n",
              "   ('360470007002', '4'),\n",
              "   ('360470377002', '4'),\n",
              "   ('360810269012', '4'),\n",
              "   ('360470135003', '4'),\n",
              "   ('360470067002', '4'),\n",
              "   ('360471128002', '4'),\n",
              "   ('360470558002', '4'),\n",
              "   ('360470315002', '4'),\n",
              "   ('360471502003', '4'),\n",
              "   ('360470045001', '4'),\n",
              "   ('360610188004', '4'),\n",
              "   ('360470343003', '4'),\n",
              "   ('360470143003', '4'),\n",
              "   ('360811579015', '4'),\n",
              "   ('360470678001', '4'),\n",
              "   ('360470800002', '4'),\n",
              "   ('360470007001', '4'),\n",
              "   ('360850040004', '4'),\n",
              "   ('360470045002', '4'),\n",
              "   ('360470357001', '4'),\n",
              "   ('360470327001', '4'),\n",
              "   ('360470504003', '4'),\n",
              "   ('360470271001', '4'),\n",
              "   ('360470059001', '4')],\n",
              "  datetime.datetime(2019, 2, 25, 0, 0),\n",
              "  datetime.datetime(2019, 3, 4, 0, 0))]"
            ]
          },
          "metadata": {},
          "execution_count": 26
        }
      ]
    },
    {
      "cell_type": "code",
      "source": [
        "approach_step34 = approach_step2.mapPartitions(visitor_distance)\n",
        "approach_step34.count()"
      ],
      "metadata": {
        "id": "wJnk8INR3N5q",
        "colab": {
          "base_uri": "https://localhost:8080/"
        },
        "outputId": "2f47f120-3633-4e3a-b855-96f3b7d3fd11"
      },
      "execution_count": 30,
      "outputs": [
        {
          "output_type": "execute_result",
          "data": {
            "text/plain": [
              "2126"
            ]
          },
          "metadata": {},
          "execution_count": 30
        }
      ]
    },
    {
      "cell_type": "code",
      "source": [
        "from functools import reduce"
      ],
      "metadata": {
        "id": "6swK04uv4Blk"
      },
      "execution_count": 31,
      "outputs": []
    },
    {
      "cell_type": "code",
      "source": [
        "def average_formular(d,n):\n",
        "  D = np.array(d)\n",
        "  N = np.array(n).astype(int)\n",
        "  return float(round(np.sum(D*N)/np.sum(N),2))\n",
        "\n",
        "def average_distance(cbgs):\n",
        "  mar_2019,oct_2019,mar_2020,oct_2020 = '','','',''\n",
        "  mar_2019_d,oct_2019_d,mar_2020_d, oct_2020_d = [],[],[],[]\n",
        "  mar_2019_n,oct_2019_n,mar_2020_n, oct_2020_n = [],[],[],[]\n",
        "  for x in cbgs:\n",
        "    if x[0]==0:\n",
        "      mar_2019_d.append(x[1])\n",
        "      mar_2019_n.append(x[2])\n",
        "    elif x[0]==1:\n",
        "      oct_2019_d.append(x[1])\n",
        "      oct_2019_n.append(x[2])\n",
        "    elif x[0]==2:\n",
        "      mar_2020_d.append(x[1])\n",
        "      mar_2020_n.append(x[2])\n",
        "    elif x[0]==3:\n",
        "      oct_2020_d.append(x[1])\n",
        "      oct_2020_n.append(x[2])\n",
        "  if len(mar_2019_d)>0:\n",
        "    mar_2019 = average_formular(mar_2019_d,mar_2019_n)\n",
        "  if len(oct_2019_n)>0:\n",
        "    oct_2019 = average_formular(oct_2019_d,oct_2019_n)\n",
        "  if len(mar_2020_n)>0:\n",
        "    mar_2020 = average_formular(mar_2020_d, mar_2020_n)\n",
        "  if len(oct_2020_n)>0:\n",
        "    oct_2020 = average_formular(oct_2020_d,oct_2020_n)\n",
        "  return mar_2019,oct_2019,mar_2020,oct_2020\n",
        "\n",
        "\n",
        "approach_step5 = approach_step34.groupByKey()\\\n",
        "                                .mapValues(average_distance)\\\n",
        "                                .sortByKey()\\\n",
        "                                .map(lambda x: (x[0],x[1][0],x[1][1],x[1][2],x[1][3]))\n",
        "approach_step5.count()"
      ],
      "metadata": {
        "id": "hPhIJT6n332Y",
        "colab": {
          "base_uri": "https://localhost:8080/"
        },
        "outputId": "820a6448-e13d-4214-bdb5-df03e2a880d9"
      },
      "execution_count": 35,
      "outputs": [
        {
          "output_type": "execute_result",
          "data": {
            "text/plain": [
              "1674"
            ]
          },
          "metadata": {},
          "execution_count": 35
        }
      ]
    },
    {
      "cell_type": "code",
      "execution_count": 39,
      "metadata": {
        "id": "HEJikn3HpO2k"
      },
      "outputs": [],
      "source": [
        "output_df = approach_step5.toDF(['cbg_fips','2019-03','2019-10','2020-03','2020-10'])\n",
        "output = output_df.rdd\n",
        "#output.saveAsTextFile('BDM_FC_23499013_Jin.csv')"
      ]
    },
    {
      "cell_type": "code",
      "source": [
        "output_df.show()"
      ],
      "metadata": {
        "id": "-Xoo6_VsaaE2",
        "colab": {
          "base_uri": "https://localhost:8080/"
        },
        "outputId": "f95c6085-9b93-4f53-8768-24357552cfe2"
      },
      "execution_count": 40,
      "outputs": [
        {
          "output_type": "stream",
          "name": "stdout",
          "text": [
            "+------------+-------+-------+-------+-------+\n",
            "|    cbg_fips|2019-03|2019-10|2020-03|2020-10|\n",
            "+------------+-------+-------+-------+-------+\n",
            "|360050002003|       |   5.28|       |       |\n",
            "|360050016001|    3.0|   null|       |       |\n",
            "|360050019001|   0.49|   null|       |       |\n",
            "|360050020002|    2.8|   null|       |       |\n",
            "|360050027021|   0.19|   null|       |       |\n",
            "|360050027022|       |   null|    2.0|       |\n",
            "|360050027023|    0.0|   null|       |       |\n",
            "|360050027024|   0.37|   null|       |       |\n",
            "|360050033003|   0.17|   null|       |       |\n",
            "|360050039001|   0.15|   null|       |       |\n",
            "|360050041001|   0.24|   null|       |       |\n",
            "|360050043004|       |   4.54|       |       |\n",
            "|360050044002|       |   null|       |   4.81|\n",
            "|360050048001|   0.19|   null|       |       |\n",
            "|360050048002|    0.3|   null|       |       |\n",
            "|360050050013|   0.36|   null|       |       |\n",
            "|360050050021|    3.2|   null|       |       |\n",
            "|360050050024|   0.19|   null|       |       |\n",
            "|360050051003|       |   4.08|       |       |\n",
            "|360050054001|   0.07|   null|       |       |\n",
            "+------------+-------+-------+-------+-------+\n",
            "only showing top 20 rows\n",
            "\n"
          ]
        }
      ]
    },
    {
      "cell_type": "code",
      "source": [
        "!gcloud auth login"
      ],
      "metadata": {
        "colab": {
          "base_uri": "https://localhost:8080/"
        },
        "id": "ZSRkH09uaZu9",
        "outputId": "d232abc8-0c72-4568-df81-f4384be0747c"
      },
      "execution_count": null,
      "outputs": [
        {
          "output_type": "stream",
          "name": "stdout",
          "text": [
            "Go to the following link in your browser:\n",
            "\n",
            "    https://accounts.google.com/o/oauth2/auth?response_type=code&client_id=32555940559.apps.googleusercontent.com&redirect_uri=https%3A%2F%2Fsdk.cloud.google.com%2Fauthcode.html&scope=openid+https%3A%2F%2Fwww.googleapis.com%2Fauth%2Fuserinfo.email+https%3A%2F%2Fwww.googleapis.com%2Fauth%2Fcloud-platform+https%3A%2F%2Fwww.googleapis.com%2Fauth%2Fappengine.admin+https%3A%2F%2Fwww.googleapis.com%2Fauth%2Fsqlservice.login+https%3A%2F%2Fwww.googleapis.com%2Fauth%2Fcompute+https%3A%2F%2Fwww.googleapis.com%2Fauth%2Faccounts.reauth&state=AYEBOj9To2N3fRe0eb6QjrcqzGhwwC&prompt=consent&access_type=offline&code_challenge=sC2c5BXJg_RBnELRM7L_SQ3G9jiDGPkSmeIWJ6oCLO0&code_challenge_method=S256\n",
            "\n",
            "Enter authorization code: 4/0AbUR2VNTTGLtpTPeRdP7o6KB5qWCYA8JnJibmltg-yfcPoaPHPHWnbHpWsEoPavsZiUrfQ\n",
            "\n",
            "You are now logged in as [zhiyuan.jin1201@gmail.com].\n",
            "Your current project is [None].  You can change this setting by running:\n",
            "  $ gcloud config set project PROJECT_ID\n"
          ]
        }
      ]
    },
    {
      "cell_type": "code",
      "source": [
        "!gcloud projects list"
      ],
      "metadata": {
        "id": "u-i93ElF1JtR",
        "colab": {
          "base_uri": "https://localhost:8080/"
        },
        "outputId": "4b5eb7d6-8007-4107-ebcb-ad6fac13efeb"
      },
      "execution_count": null,
      "outputs": [
        {
          "output_type": "stream",
          "name": "stdout",
          "text": [
            "PROJECT_ID            NAME              PROJECT_NUMBER\n",
            "bda-12345             bda-12345         369021837527\n",
            "directed-will-384217  My First Project  913257743120\n"
          ]
        }
      ]
    },
    {
      "cell_type": "code",
      "source": [
        "!gcloud config set project bda-12345\n",
        "!gcloud config set compute/region us-west1\n",
        "!gcloud config set compute/zone us-west1-a\n",
        "!gcloud config set dataproc/region us-west1"
      ],
      "metadata": {
        "id": "bXs5TGkTasCo",
        "colab": {
          "base_uri": "https://localhost:8080/"
        },
        "outputId": "6e7f14fc-362a-438b-d213-48e239613dfc"
      },
      "execution_count": null,
      "outputs": [
        {
          "output_type": "stream",
          "name": "stdout",
          "text": [
            "Updated property [core/project].\n",
            "Updated property [compute/region].\n",
            "Updated property [compute/zone].\n",
            "Updated property [dataproc/region].\n"
          ]
        }
      ]
    },
    {
      "cell_type": "code",
      "source": [
        "!gcloud dataproc clusters create bda-final-challenge --enable-component-gateway --region us-west1 --zone us-west1-a --master-machine-type n1-standard-4 --master-boot-disk-size 500 --num-workers 2 --worker-machine-type n1-standard-4 --worker-boot-disk-size 500 --image-version 2.0-debian10 --project bda-12345"
      ],
      "metadata": {
        "id": "1G90askknaVX",
        "colab": {
          "base_uri": "https://localhost:8080/"
        },
        "outputId": "d54f6f8a-5a1d-4dfa-f63d-04e06cdf3f3a"
      },
      "execution_count": null,
      "outputs": [
        {
          "output_type": "stream",
          "name": "stdout",
          "text": [
            "Waiting on operation [projects/bda-12345/regions/us-west1/operations/dff8dec7-c136-39b3-8af7-4d9819efef4e].\n",
            "\n",
            "\u001b[1;33mWARNING:\u001b[0m Consider using Auto Zone rather than selecting a zone manually. See https://cloud.google.com/dataproc/docs/concepts/configuring-clusters/auto-zone\n",
            "\u001b[1;33mWARNING:\u001b[0m Failed to validate permissions required for default service account: '369021837527-compute@developer.gserviceaccount.com'. Cluster creation could still be successful if required permissions have been granted to the respective service accounts as mentioned in the document https://cloud.google.com/dataproc/docs/concepts/configuring-clusters/service-accounts#dataproc_service_accounts_2. This could be due to Cloud Resource Manager API hasn't been enabled in your project '369021837527' before or it is disabled. Enable it by visiting 'https://console.developers.google.com/apis/api/cloudresourcemanager.googleapis.com/overview?project=369021837527'.\n",
            "\u001b[1;33mWARNING:\u001b[0m For PD-Standard without local SSDs, we strongly recommend provisioning 1TB or larger to ensure consistently high I/O performance. See https://cloud.google.com/compute/docs/disks/performance for information on disk I/O performance.\n",
            "Created [https://dataproc.googleapis.com/v1/projects/bda-12345/regions/us-west1/clusters/bda-final-challenge] Cluster placed in zone [us-west1-a].\n"
          ]
        }
      ]
    },
    {
      "cell_type": "code",
      "source": [
        "%%writefile BDM_FC_23499013_Jin.py\n",
        "import pandas as pd\n",
        "import json\n",
        "import pyspark\n",
        "from pyspark.sql import SparkSession\n",
        "from pyspark.sql import functions as F\n",
        "from pyspark.sql import types as T\n",
        "sc = pyspark.SparkContext.getOrCreate()\n",
        "spark = SparkSession(sc)\n",
        "spark\n",
        "\n",
        "weekly_pattern_csv = 'gs://bdma/data/weekly-patterns-nyc-2019-2020/part-*'\n",
        "weekly_pattern0 = sc.textFile(weekly_pattern_csv, use_unicode=True).cache()\n",
        "columns = weekly_pattern0.take(1)\n",
        "\n",
        "nyc_supermarkets = pd.read_csv('nyc_supermarkets.csv')\n",
        "nyc_supermarkets = list(nyc_supermarkets['safegraph_placekey'])\n",
        "\n",
        "nyc_cbg_centroids = pd.read_csv('nyc_cbg_centroids.csv')\n",
        "nyc_cbg_centroids.index = [str(x) for x in nyc_cbg_centroids['cbg_fips']]\n",
        "cbg_fips = nyc_cbg_centroids.drop(columns = ['cbg_fips'])\n",
        "cbg = list(cbg_fips.index)\n",
        "\n",
        "columns_interested = ['\"placekey\"','\"poi_cbg\"','\"visitor_home_cbgs\"', '\"date_range_start\"','\"date_range_end\"']\n",
        "index = []\n",
        "for x in columns_interested:\n",
        "  index.append(columns[0].split(',').index(x))\n",
        "\n",
        "def skipFirst(part_id,rows):\n",
        "  if part_id == 0:\n",
        "    next(rows)\n",
        "  for row in rows:\n",
        "    yield row\n",
        "\n",
        "weekly_pattern = weekly_pattern0.mapPartitionsWithIndex(skipFirst)\n",
        "\n",
        "import re\n",
        "def modify(row):\n",
        "    pattern = '[\\[{](.*?)[\\]}]'\n",
        "    matches = re.finditer(pattern,row)\n",
        "    positions = []\n",
        "    for match in matches:\n",
        "        positions.append((match.start(), match.end()))\n",
        "    quot_modified = []\n",
        "    if len(positions)>0:\n",
        "        for x in positions:\n",
        "            target_quot = row[x[0]:x[1]]\n",
        "            replacement_quot = re.sub(\",\",\"_\", target_quot)\n",
        "            quot_modified.append((replacement_quot,x))\n",
        "        output_row = row\n",
        "        for y in quot_modified:\n",
        "            output_row = output_row[:y[1][0]]+y[0]+output_row[y[1][1]:]\n",
        "        return output_row.lower().split(',')\n",
        "    else:\n",
        "        return row.lower().split(',')\n",
        "\n",
        "def modify_visitor_home_cgbs(row):\n",
        "  vhc = row[2][2:-2].split('_')\n",
        "  vhc1 = [x.split(':') for x in vhc]\n",
        "  out = []\n",
        "  for x in vhc1:\n",
        "    if len(x)==2:\n",
        "      out.append((x[0][2:-2],x[1]))\n",
        "  return row[0],row[1],out,row[3],row[4]\n",
        "\n",
        "approach_step1 = weekly_pattern.map(modify)\\\n",
        "                                .map(lambda x:(x[index[0]],x[index[1]],x[index[2]],x[index[3]],x[index[4]]))\\\n",
        "                                .filter(lambda x: len(x[2])>3)\\\n",
        "                                .map(modify_visitor_home_cgbs)\\\n",
        "                                .filter(lambda x: x[0] in nyc_supermarkets)\n",
        "\n",
        "from datetime import datetime\n",
        "Mar_2019_start_str = '2019-03-01'\n",
        "Mar_2019_end_str = '2019-03-31'\n",
        "Mar_2019_start = datetime.strptime(Mar_2019_start_str,'%Y-%m-%d')\n",
        "Mar_2019_end = datetime.strptime(Mar_2019_end_str,'%Y-%m-%d')\n",
        "\n",
        "Oct_2019_start_str = '2019-10-01'\n",
        "Oct_2019_end_str = '2019-10-31'\n",
        "Oct_2019_start = datetime.strptime(Oct_2019_start_str,'%Y-%m-%d')\n",
        "Oct_2019_end = datetime.strptime(Oct_2019_end_str,'%Y-%m-%d')\n",
        "\n",
        "Mar_2020_start_str = '2020-03-01'\n",
        "Mar_2020_end_str = '2020-03-31'\n",
        "Mar_2020_start = datetime.strptime(Mar_2020_start_str,'%Y-%m-%d')\n",
        "Mar_2020_end = datetime.strptime(Mar_2020_end_str,'%Y-%m-%d')\n",
        "\n",
        "Oct_2020_start_str = '2020-10-01'\n",
        "Oct_2020_end_str = '2020-10-31'\n",
        "Oct_2020_start = datetime.strptime(Oct_2020_start_str,'%Y-%m-%d')\n",
        "Oct_2020_end = datetime.strptime(Oct_2020_end_str,'%Y-%m-%d')\n",
        "\n",
        "def filter_date(row):\n",
        "  start = row[3]\n",
        "  end = row[4]\n",
        "  if Mar_2019_start <= end and start <= Mar_2019_end:\n",
        "    return True\n",
        "  elif Oct_2019_start <= end and start <= Oct_2019_end:\n",
        "    return True\n",
        "  elif Mar_2020_start <= end and start <= Mar_2020_end:\n",
        "    return True\n",
        "  elif Oct_2020_start <= end and start <= Oct_2020_end:\n",
        "    return True\n",
        "  else:\n",
        "    return False\n",
        "\n",
        "approach_step2 = approach_step1.map(lambda x: (x[0],x[1],x[2],datetime.strptime(x[3][:10],'%Y-%m-%d'),datetime.strptime(x[4][:10],'%Y-%m-%d')))\\\n",
        "                                .filter(filter_date)\n",
        "# transform to EPSG2263\n",
        "import pyproj\n",
        "proj = pyproj.Proj(init='EPSG:2263', preserve_units=True)\n",
        "cbg_fips_proj = cbg_fips.apply(lambda row: proj(row['longitude'],row['latitude']), axis=1)\n",
        "\n",
        "import numpy as np\n",
        "# used vistor home cbgs as the travel origin, and get distance between the store and visitors\n",
        "def visitor_distance(rows):\n",
        "  for x in rows:\n",
        "    start = x[3]\n",
        "    end = x[4]\n",
        "    for visitors in x[2]:\n",
        "      if visitors[0] in cbg:\n",
        "        store_loc = np.array(cbg_fips_proj[x[1]])\n",
        "        visitor_loc = np.array(cbg_fips_proj[visitors[0]])\n",
        "        distance = float(np.sqrt(sum((store_loc-visitor_loc)**2)))\n",
        "        if Mar_2019_start <= end and start <= Mar_2019_end:\n",
        "          yield visitors[0],(0,distance/5280,int(visitors[1]))\n",
        "        elif Oct_2019_start <= end and start <= Oct_2019_end:\n",
        "          yield visitors[0],(1,distance/5280,int(visitors[1]))\n",
        "        elif Mar_2020_start <= end and start <= Mar_2020_end:\n",
        "          yield visitors[0],(2,distance/5280,int(visitors[1]))\n",
        "        elif Oct_2020_start <= end and start <= Oct_2020_end:\n",
        "          yield visitors[0],(3,distance/5280,int(visitors[1]))\n",
        "\n",
        "approach_step34 = approach_step2.mapPartitions(visitor_distance)\n",
        "\n",
        "from functools import reduce\n",
        "\n",
        "def average_distance(cbgs):\n",
        "  mar_2019,oct_2019,mar_2020, oct_2020 = [],[],[],[]\n",
        "  for x in cbgs:\n",
        "    if x[0]==0:\n",
        "      mar_2019.append((x[1]*x[2],x[2]))\n",
        "    elif x[0]==1:\n",
        "      oct_2019.append((x[1]*x[2],x[2]))\n",
        "    elif x[0]==2:\n",
        "      mar_2020.append((x[1]*x[2],x[2]))\n",
        "    else:\n",
        "      oct_2020.append((x[1]*x[2],x[2]))\n",
        "  if len(mar_2019)>0:\n",
        "    mar_2019 = reduce(lambda x,y:(x[0]+y[0],x[1]+y[1]),mar_2019)  \n",
        "    mar_2019_ave = round(mar_2019[0]/mar_2019[1],2)\n",
        "  else:\n",
        "    mar_2019_ave = ''\n",
        "  if len(oct_2019)>0:\n",
        "    oct_2019 = reduce(lambda x,y:(x[0]+y[0],x[1]+y[1]),oct_2019)  \n",
        "    oct_2019_ave = round(oct_2019[0]/oct_2019[1],2)\n",
        "  else:\n",
        "    oct_2019_ave = ''\n",
        "  if len(mar_2020)>0:\n",
        "    mar_2020 = reduce(lambda x,y:(x[0]+y[0],x[1]+y[1]),mar_2020)  \n",
        "    mar_2020_ave = round(mar_2020[0]/mar_2020[1],2)\n",
        "  else:\n",
        "    mar_2020_ave = ''\n",
        "  if len(oct_2020)>0:\n",
        "    oct_2020 = reduce(lambda x,y:(x[0]+y[0],x[1]+y[1]),oct_2020)\n",
        "    oct_2020_ave = round(oct_2020[0]/oct_2020[1],2)\n",
        "  else:\n",
        "    oct_2020_ave = ''\n",
        "  return mar_2019_ave,oct_2019_ave,mar_2020_ave, oct_2020_ave\n",
        "\n",
        "approach_step5 = approach_step34.groupByKey()\\\n",
        "                                .mapValues(average_distance)\\\n",
        "                                .map(lambda x: (x[0],x[1][0],x[1][1],x[1][2],x[1][3]))\n",
        "\n",
        "output_df = approach_step5.toDF(['cbg_fips','2019-03','2019-10','2020-03','2020-10'])\n",
        "output = output_df.rdd\n",
        "output.saveAsTextFile('gs://bdma/shared/2023_spring/FC/23499013_Jin/BDM_FC_23499013_Jin.csv')\n"
      ],
      "metadata": {
        "id": "xcTKSoV31NYQ",
        "colab": {
          "base_uri": "https://localhost:8080/"
        },
        "outputId": "6e216eef-615d-4f99-a557-b27ad177d37f"
      },
      "execution_count": null,
      "outputs": [
        {
          "output_type": "stream",
          "name": "stdout",
          "text": [
            "Writing BDM_FC_23499013_Jin.py\n"
          ]
        }
      ]
    },
    {
      "cell_type": "code",
      "source": [
        "%%writefile props.conf\n",
        "spark.hadoop.fs.gs.requester.pays.mode=AUTO\n",
        "spark.hadoop.fs.gs.requester.pays.project.id=bda-12345\n",
        "spark.executor.instances='4'\n",
        "spark.executor.cores='4'"
      ],
      "metadata": {
        "colab": {
          "base_uri": "https://localhost:8080/"
        },
        "id": "hlm2o7Q0nbHw",
        "outputId": "757950f4-5bb1-415d-e007-9fb5e328f442"
      },
      "execution_count": null,
      "outputs": [
        {
          "output_type": "stream",
          "name": "stdout",
          "text": [
            "Writing props.conf\n"
          ]
        }
      ]
    },
    {
      "cell_type": "code",
      "source": [
        "import time\n",
        "start_time = time.time()\n",
        "\n",
        "!gcloud dataproc jobs submit pyspark --cluster bda-final-challenge --files nyc_supermarkets.csv,nyc_cbg_centroids.csv \\\n",
        "--properties-file=props.conf BDM_FC_23499013_Jin.py -- gs://bdma/shared/2023_spring/FC/23499013_Jin\n",
        "\n",
        "print(\" %s second \" %(time.time()-start_time))"
      ],
      "metadata": {
        "colab": {
          "base_uri": "https://localhost:8080/"
        },
        "id": "16jKrFUKnsGP",
        "outputId": "cf14f722-0282-492c-b960-771950b3cc79"
      },
      "execution_count": null,
      "outputs": [
        {
          "output_type": "stream",
          "name": "stdout",
          "text": [
            "Job [af12ee99b10d4820aa513c13755c6c56] submitted.\n",
            "Waiting for job output...\n",
            "23/05/19 01:15:28 INFO org.apache.spark.SparkEnv: Registering MapOutputTracker\n",
            "23/05/19 01:15:28 INFO org.apache.spark.SparkEnv: Registering BlockManagerMaster\n",
            "23/05/19 01:15:28 INFO org.apache.spark.SparkEnv: Registering BlockManagerMasterHeartbeat\n",
            "23/05/19 01:15:28 INFO org.apache.spark.SparkEnv: Registering OutputCommitCoordinator\n",
            "23/05/19 01:15:28 INFO org.sparkproject.jetty.util.log: Logging initialized @6130ms to org.sparkproject.jetty.util.log.Slf4jLog\n",
            "23/05/19 01:15:29 INFO org.sparkproject.jetty.server.Server: jetty-9.4.40.v20210413; built: 2021-04-13T20:42:42.668Z; git: b881a572662e1943a14ae12e7e1207989f218b74; jvm 1.8.0_362-b09\n",
            "23/05/19 01:15:29 INFO org.sparkproject.jetty.server.Server: Started @6278ms\n",
            "23/05/19 01:15:29 INFO org.sparkproject.jetty.server.AbstractConnector: Started ServerConnector@507b0f68{HTTP/1.1, (http/1.1)}{0.0.0.0:34815}\n",
            "23/05/19 01:15:29 INFO org.apache.hadoop.yarn.client.RMProxy: Connecting to ResourceManager at bda-final-challenge-m/10.138.0.51:8032\n",
            "23/05/19 01:15:30 INFO org.apache.hadoop.yarn.client.AHSProxy: Connecting to Application History server at bda-final-challenge-m/10.138.0.51:10200\n",
            "23/05/19 01:15:31 INFO org.apache.hadoop.conf.Configuration: resource-types.xml not found\n",
            "23/05/19 01:15:31 INFO org.apache.hadoop.yarn.util.resource.ResourceUtils: Unable to find 'resource-types.xml'.\n",
            "23/05/19 01:15:32 INFO org.apache.hadoop.yarn.client.api.impl.YarnClientImpl: Submitted application application_1684458796722_0001\n",
            "23/05/19 01:15:33 INFO org.apache.hadoop.yarn.client.RMProxy: Connecting to ResourceManager at bda-final-challenge-m/10.138.0.51:8030\n",
            "23/05/19 01:15:35 INFO com.google.cloud.hadoop.repackaged.gcs.com.google.cloud.hadoop.gcsio.GoogleCloudStorageImpl: Ignoring exception of type GoogleJsonResponseException; verified object already exists with desired state.\n",
            "23/05/19 01:15:36 INFO org.apache.hadoop.mapred.FileInputFormat: Total input files to process : 49\n",
            "/opt/conda/default/lib/python3.8/site-packages/pyproj/crs/crs.py:130: FutureWarning: '+init=<authority>:<code>' syntax is deprecated. '<authority>:<code>' is the preferred initialization method. When making the change, be mindful of axis order changes: https://pyproj4.github.io/pyproj/stable/gotchas.html#axis-order-changes-in-proj-6\n",
            "  in_crs_string = _prepare_from_proj_string(in_crs_string)\n",
            "Traceback (most recent call last):\n",
            "  File \"/tmp/af12ee99b10d4820aa513c13755c6c56/BDM_FC_23499013_Jin.py\", line 176, in <module>\n",
            "    output.saveAsTextFile('gs://bdma/shared/2023_spring/FC/23499013_Jin/BDM_FC_23499013_Jin.csv')\n",
            "  File \"/usr/lib/spark/python/lib/pyspark.zip/pyspark/rdd.py\", line 1826, in saveAsTextFile\n",
            "  File \"/usr/lib/spark/python/lib/py4j-0.10.9-src.zip/py4j/java_gateway.py\", line 1304, in __call__\n",
            "  File \"/usr/lib/spark/python/lib/pyspark.zip/pyspark/sql/utils.py\", line 111, in deco\n",
            "  File \"/usr/lib/spark/python/lib/py4j-0.10.9-src.zip/py4j/protocol.py\", line 326, in get_return_value\n",
            "py4j.protocol.Py4JJavaError: An error occurred while calling o131.saveAsTextFile.\n",
            ": org.apache.hadoop.mapred.FileAlreadyExistsException: Output directory gs://bdma/shared/2023_spring/FC/23499013_Jin/BDM_FC_23499013_Jin.csv already exists\n",
            "\tat org.apache.hadoop.mapred.FileOutputFormat.checkOutputSpecs(FileOutputFormat.java:131)\n",
            "\tat org.apache.spark.internal.io.HadoopMapRedWriteConfigUtil.assertConf(SparkHadoopWriter.scala:298)\n",
            "\tat org.apache.spark.internal.io.SparkHadoopWriter$.write(SparkHadoopWriter.scala:71)\n",
            "\tat org.apache.spark.rdd.PairRDDFunctions.$anonfun$saveAsHadoopDataset$1(PairRDDFunctions.scala:1090)\n",
            "\tat scala.runtime.java8.JFunction0$mcV$sp.apply(JFunction0$mcV$sp.java:23)\n",
            "\tat org.apache.spark.rdd.RDDOperationScope$.withScope(RDDOperationScope.scala:151)\n",
            "\tat org.apache.spark.rdd.RDDOperationScope$.withScope(RDDOperationScope.scala:112)\n",
            "\tat org.apache.spark.rdd.RDD.withScope(RDD.scala:414)\n",
            "\tat org.apache.spark.rdd.PairRDDFunctions.saveAsHadoopDataset(PairRDDFunctions.scala:1088)\n",
            "\tat org.apache.spark.rdd.PairRDDFunctions.$anonfun$saveAsHadoopFile$4(PairRDDFunctions.scala:1061)\n",
            "\tat scala.runtime.java8.JFunction0$mcV$sp.apply(JFunction0$mcV$sp.java:23)\n",
            "\tat org.apache.spark.rdd.RDDOperationScope$.withScope(RDDOperationScope.scala:151)\n",
            "\tat org.apache.spark.rdd.RDDOperationScope$.withScope(RDDOperationScope.scala:112)\n",
            "\tat org.apache.spark.rdd.RDD.withScope(RDD.scala:414)\n",
            "\tat org.apache.spark.rdd.PairRDDFunctions.saveAsHadoopFile(PairRDDFunctions.scala:1026)\n",
            "\tat org.apache.spark.rdd.PairRDDFunctions.$anonfun$saveAsHadoopFile$3(PairRDDFunctions.scala:1008)\n",
            "\tat scala.runtime.java8.JFunction0$mcV$sp.apply(JFunction0$mcV$sp.java:23)\n",
            "\tat org.apache.spark.rdd.RDDOperationScope$.withScope(RDDOperationScope.scala:151)\n",
            "\tat org.apache.spark.rdd.RDDOperationScope$.withScope(RDDOperationScope.scala:112)\n",
            "\tat org.apache.spark.rdd.RDD.withScope(RDD.scala:414)\n",
            "\tat org.apache.spark.rdd.PairRDDFunctions.saveAsHadoopFile(PairRDDFunctions.scala:1007)\n",
            "\tat org.apache.spark.rdd.PairRDDFunctions.$anonfun$saveAsHadoopFile$2(PairRDDFunctions.scala:964)\n",
            "\tat scala.runtime.java8.JFunction0$mcV$sp.apply(JFunction0$mcV$sp.java:23)\n",
            "\tat org.apache.spark.rdd.RDDOperationScope$.withScope(RDDOperationScope.scala:151)\n",
            "\tat org.apache.spark.rdd.RDDOperationScope$.withScope(RDDOperationScope.scala:112)\n",
            "\tat org.apache.spark.rdd.RDD.withScope(RDD.scala:414)\n",
            "\tat org.apache.spark.rdd.PairRDDFunctions.saveAsHadoopFile(PairRDDFunctions.scala:962)\n",
            "\tat org.apache.spark.rdd.RDD.$anonfun$saveAsTextFile$2(RDD.scala:1578)\n",
            "\tat scala.runtime.java8.JFunction0$mcV$sp.apply(JFunction0$mcV$sp.java:23)\n",
            "\tat org.apache.spark.rdd.RDDOperationScope$.withScope(RDDOperationScope.scala:151)\n",
            "\tat org.apache.spark.rdd.RDDOperationScope$.withScope(RDDOperationScope.scala:112)\n",
            "\tat org.apache.spark.rdd.RDD.withScope(RDD.scala:414)\n",
            "\tat org.apache.spark.rdd.RDD.saveAsTextFile(RDD.scala:1578)\n",
            "\tat org.apache.spark.rdd.RDD.$anonfun$saveAsTextFile$1(RDD.scala:1564)\n",
            "\tat scala.runtime.java8.JFunction0$mcV$sp.apply(JFunction0$mcV$sp.java:23)\n",
            "\tat org.apache.spark.rdd.RDDOperationScope$.withScope(RDDOperationScope.scala:151)\n",
            "\tat org.apache.spark.rdd.RDDOperationScope$.withScope(RDDOperationScope.scala:112)\n",
            "\tat org.apache.spark.rdd.RDD.withScope(RDD.scala:414)\n",
            "\tat org.apache.spark.rdd.RDD.saveAsTextFile(RDD.scala:1564)\n",
            "\tat org.apache.spark.api.java.JavaRDDLike.saveAsTextFile(JavaRDDLike.scala:551)\n",
            "\tat org.apache.spark.api.java.JavaRDDLike.saveAsTextFile$(JavaRDDLike.scala:550)\n",
            "\tat org.apache.spark.api.java.AbstractJavaRDDLike.saveAsTextFile(JavaRDDLike.scala:45)\n",
            "\tat sun.reflect.NativeMethodAccessorImpl.invoke0(Native Method)\n",
            "\tat sun.reflect.NativeMethodAccessorImpl.invoke(NativeMethodAccessorImpl.java:62)\n",
            "\tat sun.reflect.DelegatingMethodAccessorImpl.invoke(DelegatingMethodAccessorImpl.java:43)\n",
            "\tat java.lang.reflect.Method.invoke(Method.java:498)\n",
            "\tat py4j.reflection.MethodInvoker.invoke(MethodInvoker.java:244)\n",
            "\tat py4j.reflection.ReflectionEngine.invoke(ReflectionEngine.java:357)\n",
            "\tat py4j.Gateway.invoke(Gateway.java:282)\n",
            "\tat py4j.commands.AbstractCommand.invokeMethod(AbstractCommand.java:132)\n",
            "\tat py4j.commands.CallCommand.execute(CallCommand.java:79)\n",
            "\tat py4j.GatewayConnection.run(GatewayConnection.java:238)\n",
            "\tat java.lang.Thread.run(Thread.java:750)\n",
            "\n",
            "23/05/19 01:20:17 INFO org.sparkproject.jetty.server.AbstractConnector: Stopped Spark@507b0f68{HTTP/1.1, (http/1.1)}{0.0.0.0:0}\n",
            "\u001b[1;31mERROR:\u001b[0m (gcloud.dataproc.jobs.submit.pyspark) Job [af12ee99b10d4820aa513c13755c6c56] failed with error:\n",
            "Google Cloud Dataproc Agent reports job failure. If logs are available, they can be found at:\n",
            "https://console.cloud.google.com/dataproc/jobs/af12ee99b10d4820aa513c13755c6c56?project=bda-12345&region=us-west1\n",
            "gcloud dataproc jobs wait 'af12ee99b10d4820aa513c13755c6c56' --region 'us-west1' --project 'bda-12345'\n",
            "https://console.cloud.google.com/storage/browser/dataproc-staging-us-west1-369021837527-rmrmdi8b/google-cloud-dataproc-metainfo/85fc6e18-60dd-4532-880c-9e47f3614bf1/jobs/af12ee99b10d4820aa513c13755c6c56/\n",
            "gs://dataproc-staging-us-west1-369021837527-rmrmdi8b/google-cloud-dataproc-metainfo/85fc6e18-60dd-4532-880c-9e47f3614bf1/jobs/af12ee99b10d4820aa513c13755c6c56/driveroutput\n",
            " 306.8318467140198 second \n"
          ]
        }
      ]
    },
    {
      "cell_type": "code",
      "source": [
        "!gsutil -u bda-12345 cp -r gs://bdma/shared/2023_spring/FC/23499013_Jin/BDM_FC_23499013_Jin.csv ."
      ],
      "metadata": {
        "id": "BydNbnoQoSeH",
        "colab": {
          "base_uri": "https://localhost:8080/"
        },
        "outputId": "d56ec096-7172-41fa-fc40-dd873d1c5a99"
      },
      "execution_count": null,
      "outputs": [
        {
          "output_type": "stream",
          "name": "stdout",
          "text": [
            "Copying gs://bdma/shared/2023_spring/FC/23499013_Jin/BDM_FC_23499013_Jin.csv/_SUCCESS...\n",
            "/ [0 files][    0.0 B/    0.0 B]                                                \r/ [1 files][    0.0 B/    0.0 B]                                                \rCopying gs://bdma/shared/2023_spring/FC/23499013_Jin/BDM_FC_23499013_Jin.csv/part-00000...\n",
            "Copying gs://bdma/shared/2023_spring/FC/23499013_Jin/BDM_FC_23499013_Jin.csv/part-00001...\n",
            "/ [3 files][ 62.2 KiB/ 62.2 KiB]                                                \n",
            "==> NOTE: You are performing a sequence of gsutil operations that may\n",
            "run significantly faster if you instead use gsutil -m cp ... Please\n",
            "see the -m section under \"gsutil help options\" for further information\n",
            "about when gsutil -m can be advantageous.\n",
            "\n",
            "Copying gs://bdma/shared/2023_spring/FC/23499013_Jin/BDM_FC_23499013_Jin.csv/part-00002...\n",
            "Copying gs://bdma/shared/2023_spring/FC/23499013_Jin/BDM_FC_23499013_Jin.csv/part-00003...\n",
            "Copying gs://bdma/shared/2023_spring/FC/23499013_Jin/BDM_FC_23499013_Jin.csv/part-00004...\n",
            "Copying gs://bdma/shared/2023_spring/FC/23499013_Jin/BDM_FC_23499013_Jin.csv/part-00005...\n",
            "Copying gs://bdma/shared/2023_spring/FC/23499013_Jin/BDM_FC_23499013_Jin.csv/part-00006...\n",
            "Copying gs://bdma/shared/2023_spring/FC/23499013_Jin/BDM_FC_23499013_Jin.csv/part-00007...\n",
            "Copying gs://bdma/shared/2023_spring/FC/23499013_Jin/BDM_FC_23499013_Jin.csv/part-00008...\n",
            "Copying gs://bdma/shared/2023_spring/FC/23499013_Jin/BDM_FC_23499013_Jin.csv/part-00009...\n",
            "Copying gs://bdma/shared/2023_spring/FC/23499013_Jin/BDM_FC_23499013_Jin.csv/part-00010...\n",
            "Copying gs://bdma/shared/2023_spring/FC/23499013_Jin/BDM_FC_23499013_Jin.csv/part-00011...\n",
            "Copying gs://bdma/shared/2023_spring/FC/23499013_Jin/BDM_FC_23499013_Jin.csv/part-00012...\n",
            "Copying gs://bdma/shared/2023_spring/FC/23499013_Jin/BDM_FC_23499013_Jin.csv/part-00013...\n",
            "Copying gs://bdma/shared/2023_spring/FC/23499013_Jin/BDM_FC_23499013_Jin.csv/part-00014...\n",
            "Copying gs://bdma/shared/2023_spring/FC/23499013_Jin/BDM_FC_23499013_Jin.csv/part-00015...\n",
            "Copying gs://bdma/shared/2023_spring/FC/23499013_Jin/BDM_FC_23499013_Jin.csv/part-00016...\n",
            "\\ [18 files][518.4 KiB/518.4 KiB]                                               \n",
            "Operation completed over 18 objects/518.4 KiB.                                   \n"
          ]
        }
      ]
    },
    {
      "cell_type": "code",
      "source": [
        "weekly_pattern_csv = 'BDM_FC_23499013_Jin.csv'\n",
        "weekly_pattern0 = sc.textFile(weekly_pattern_csv, use_unicode=True).cache()"
      ],
      "metadata": {
        "id": "mppHR2l_CRZo"
      },
      "execution_count": null,
      "outputs": []
    },
    {
      "cell_type": "code",
      "source": [
        "weekly_pattern0.take(15)"
      ],
      "metadata": {
        "colab": {
          "base_uri": "https://localhost:8080/"
        },
        "id": "eaadW3X6HX01",
        "outputId": "51e3e750-421e-4dd5-aea5-a777aec5889c"
      },
      "execution_count": null,
      "outputs": [
        {
          "output_type": "execute_result",
          "data": {
            "text/plain": [
              "[\"Row(cbg_fips='360810661001', 2019-03=1.35, 2019-10=2.63, 2020-03=1.76, 2020-10=1.95)\",\n",
              " \"Row(cbg_fips='360810663001', 2019-03=1.08, 2019-10=2.13, 2020-03=0.72, 2020-10=0.86)\",\n",
              " \"Row(cbg_fips='360810663002', 2019-03=0.75, 2019-10=2.0, 2020-03=2.08, 2020-10=2.1)\",\n",
              " \"Row(cbg_fips='360810663003', 2019-03=1.08, 2019-10=2.92, 2020-03=1.67, 2020-10=1.87)\",\n",
              " \"Row(cbg_fips='360810664001', 2019-03=10.13, 2019-10=10.13, 2020-03=4.37, 2020-10=14.16)\",\n",
              " \"Row(cbg_fips='360810664002', 2019-03=7.14, 2019-10=7.03, 2020-03=8.86, 2020-10=10.96)\",\n",
              " \"Row(cbg_fips='360810664003', 2019-03=4.27, 2019-10=1.79, 2020-03=6.1, 2020-10=None)\",\n",
              " \"Row(cbg_fips='360810664004', 2019-03=4.85, 2019-10=8.44, 2020-03=6.96, 2020-10=5.87)\",\n",
              " \"Row(cbg_fips='360810664005', 2019-03=7.07, 2019-10=7.12, 2020-03=5.06, 2020-10=1.7)\",\n",
              " \"Row(cbg_fips='360810664006', 2019-03=10.33, 2019-10=11.42, 2020-03=5.34, 2020-10=7.69)\",\n",
              " \"Row(cbg_fips='360810664007', 2019-03=7.58, 2019-10=5.9, 2020-03=7.9, 2020-10=8.79)\",\n",
              " \"Row(cbg_fips='360810664008', 2019-03=15.05, 2019-10=4.84, 2020-03=5.6, 2020-10=7.17)\",\n",
              " \"Row(cbg_fips='360810665011', 2019-03=1.99, 2019-10=1.68, 2020-03=2.11, 2020-10=1.71)\",\n",
              " \"Row(cbg_fips='360810665012', 2019-03=3.26, 2019-10=2.42, 2020-03=1.78, 2020-10=1.27)\",\n",
              " \"Row(cbg_fips='360810665013', 2019-03=2.69, 2019-10=2.07, 2020-03=1.73, 2020-10=1.77)\"]"
            ]
          },
          "metadata": {},
          "execution_count": 16
        }
      ]
    },
    {
      "cell_type": "code",
      "source": [
        "weekly_pattern0.count()"
      ],
      "metadata": {
        "id": "Fv6vfgRsMYti",
        "colab": {
          "base_uri": "https://localhost:8080/"
        },
        "outputId": "80294565-f066-4771-eb71-84936171edd9"
      },
      "execution_count": null,
      "outputs": [
        {
          "output_type": "execute_result",
          "data": {
            "text/plain": [
              "6272"
            ]
          },
          "metadata": {},
          "execution_count": 17
        }
      ]
    }
  ],
  "metadata": {
    "colab": {
      "provenance": []
    },
    "kernelspec": {
      "display_name": "Python 3",
      "name": "python3"
    },
    "language_info": {
      "name": "python"
    }
  },
  "nbformat": 4,
  "nbformat_minor": 0
}