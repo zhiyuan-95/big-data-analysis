{
 "cells": [
  {
   "cell_type": "markdown",
   "metadata": {
    "id": "UcXIhDdm0v3e"
   },
   "source": [
    "# **PART 1**"
   ]
  },
  {
   "cell_type": "code",
   "execution_count": 21,
   "metadata": {
    "colab": {
     "base_uri": "https://localhost:8080/"
    },
    "id": "6Yrpv_0WRvxB",
    "outputId": "84c79db5-5aad-413a-ee58-c18c1986f246"
   },
   "outputs": [
    {
     "data": {
      "text/plain": []
     },
     "execution_count": 21,
     "metadata": {},
     "output_type": "execute_result"
    }
   ],
   "source": [
    "%%shell\n",
    "gdown --quiet 1-IeoZDwT5wQzBUpsaS5B6vTaP-2ZBkam\n",
    "pip --quiet install pyspark"
   ]
  },
  {
   "cell_type": "code",
   "execution_count": 4,
   "metadata": {
    "id": "d2NRIT-UP5AN"
   },
   "outputs": [],
   "source": [
    "COMPLAINTS_FN = 'complaints_sample.csv'\n",
    "import pyspark\n",
    "from pyspark.sql import SparkSession\n",
    "from pyspark.sql import functions as F\n",
    "from pyspark.sql import types as T\n",
    "sc = pyspark.SparkContext.getOrCreate()\n",
    "spark = SparkSession.builder.getOrCreate()"
   ]
  },
  {
   "cell_type": "code",
   "execution_count": 5,
   "metadata": {
    "colab": {
     "base_uri": "https://localhost:8080/"
    },
    "id": "eU0uRBgbP43-",
    "outputId": "1c9d9d3b-a1d7-4bdf-cbae-e5a9805d441c"
   },
   "outputs": [
    {
     "data": {
      "text/plain": [
       "['Date received,Product,Sub-product,Issue,Sub-issue,Consumer complaint narrative,Company public response,Company,State,ZIP code,Tags,Consumer consent provided?,Submitted via,Date sent to company,Company response to consumer,Timely response?,Consumer disputed?,Complaint ID',\n",
       " '2015-12-31,Bank account or service,Checking account,\"Making/receiving payments, sending money\",,,,FIRSTBANK PUERTO RICO,PR,00902,Older American,N/A,Referral,2016-02-04,Closed with explanation,Yes,No,1723943']"
      ]
     },
     "execution_count": 5,
     "metadata": {},
     "output_type": "execute_result"
    }
   ],
   "source": [
    "dt = sc.textFile(COMPLAINTS_FN, use_unicode=True).cache()\n",
    "dt.take(2)"
   ]
  },
  {
   "cell_type": "code",
   "execution_count": 7,
   "metadata": {
    "id": "6WTxjr8iP4wM"
   },
   "outputs": [],
   "source": [
    "def combine(part_id,rows):\n",
    "    if part_id == 0:\n",
    "        next(rows)\n",
    "    reserve = ''\n",
    "    for row in rows:\n",
    "        if row[:4].isnumeric()==True:\n",
    "            if len(reserve)>0:\n",
    "                yield reserve\n",
    "            reserve = row\n",
    "        else:\n",
    "            reserve+=row"
   ]
  },
  {
   "cell_type": "code",
   "execution_count": 8,
   "metadata": {
    "id": "hc42KCWKP4tA"
   },
   "outputs": [],
   "source": [
    "import re\n",
    "def modify(row):\n",
    "    pattern = r'\"[^\"]*\"'\n",
    "    matches = re.finditer(pattern,row)\n",
    "    positions = []\n",
    "    for match in matches:\n",
    "        positions.append((match.start(), match.end()))\n",
    "    quot_modified = []\n",
    "    if len(positions)>0:\n",
    "        for x in positions:\n",
    "            target_quot = row[x[0]:x[1]]\n",
    "            replacement_quot = re.sub(\",\",\"_\", target_quot) \n",
    "            quot_modified.append((replacement_quot,x))\n",
    "        output_row = row\n",
    "        for y in quot_modified:\n",
    "            output_row = output_row[:y[1][0]]+y[0]+output_row[y[1][1]:]\n",
    "        return output_row.lower()\n",
    "    else:\n",
    "        return row.lower()"
   ]
  },
  {
   "cell_type": "code",
   "execution_count": 23,
   "metadata": {
    "colab": {
     "base_uri": "https://localhost:8080/"
    },
    "id": "aKEB-TEyP4Uw",
    "outputId": "53013aaa-33f4-432f-d511-b9f4eba18466"
   },
   "outputs": [
    {
     "data": {
      "text/plain": [
       "[(('2015', 'bank account or service', 'firstbank puerto rico'), 1),\n",
       " (('2016', 'bank account or service', 'firstbank puerto rico'), 1),\n",
       " (('2016', 'bank account or service', 'wells fargo & company'), 1),\n",
       " (('2017', 'checking or savings account', 'comerica'), 1),\n",
       " (('2018', 'checking or savings account', 'wells fargo & company'), 1)]"
      ]
     },
     "execution_count": 23,
     "metadata": {},
     "output_type": "execute_result"
    }
   ],
   "source": [
    "task1 = dt.mapPartitionsWithIndex(combine)\\\n",
    "        .map(modify)\\\n",
    "        .map(lambda x: x.split(','))\\\n",
    "        .map(lambda x: ((x[0][:4],x[1],x[7]),1))\n",
    "task1.take(5)"
   ]
  },
  {
   "cell_type": "code",
   "execution_count": 25,
   "metadata": {
    "id": "FPGAJgpLNWWD"
   },
   "outputs": [],
   "source": [
    "check = task1.filter(lambda x: x[0][0] in ['2018'])"
   ]
  },
  {
   "cell_type": "code",
   "execution_count": 26,
   "metadata": {
    "colab": {
     "base_uri": "https://localhost:8080/"
    },
    "id": "4AEdzTM8Sg-0",
    "outputId": "8eb95e46-63f2-4dde-af1f-fe26ac412fa9"
   },
   "outputs": [
    {
     "data": {
      "text/plain": [
       "['bank account or service,2015,1,1,100',\n",
       " 'bank account or service,2016,2,2,50',\n",
       " 'checking or savings account,2017,1,1,100',\n",
       " 'checking or savings account,2018,20,10,25',\n",
       " 'checking or savings account,2019,461,72,13']"
      ]
     },
     "execution_count": 26,
     "metadata": {},
     "output_type": "execute_result"
    }
   ],
   "source": [
    "def remove_quot(row):\n",
    "    if row[0][0].isalpha():\n",
    "        return ','.join(row)\n",
    "    else:\n",
    "        out = [row[0][1:-1],row[1],row[2],row[3],row[4]]\n",
    "        return ','.join(out)\n",
    "outputTask1 = task1.groupByKey()\\\n",
    "        .mapValues(lambda x: sum(x))\\\n",
    "        .map(lambda x: ((x[0][0],x[0][1]),(x[1],1)))\\\n",
    "        .groupByKey()\\\n",
    "        .mapValues(lambda x: (sum([a[0] for a in x]),max([a[0] for a in x]),sum([a[1] for a in x])))\\\n",
    "        .map(lambda x: [x[0][1],x[0][0],str(x[1][0]),str(x[1][2]),str(round(100*x[1][1]/x[1][0],0))[:-2]])\\\n",
    "        .map(remove_quot)\\\n",
    "        .sortBy(lambda x: x[:])\n",
    "outputTask1.take(5)"
   ]
  },
  {
   "cell_type": "markdown",
   "metadata": {
    "id": "dTZnCpbhSrf5"
   },
   "source": [
    "# part 2"
   ]
  },
  {
   "cell_type": "code",
   "execution_count": 13,
   "metadata": {
    "colab": {
     "base_uri": "https://localhost:8080/",
     "height": 580
    },
    "id": "qz_30RDSkIW6",
    "outputId": "ce92f83a-bc39-4637-fb69-9fbff0c9e3ea"
   },
   "outputs": [
    {
     "name": "stdout",
     "output_type": "stream",
     "text": [
      "Looking in indexes: https://pypi.org/simple, https://us-python.pkg.dev/colab-wheels/public/simple/\n",
      "Collecting google-cloud-dataproc\n",
      "  Downloading google_cloud_dataproc-5.4.1-py2.py3-none-any.whl (307 kB)\n",
      "\u001b[2K     \u001b[90m━━━━━━━━━━━━━━━━━━━━━━━━━━━━━━━━━━━━━━━\u001b[0m \u001b[32m307.5/307.5 kB\u001b[0m \u001b[31m6.6 MB/s\u001b[0m eta \u001b[36m0:00:00\u001b[0m\n",
      "\u001b[?25hRequirement already satisfied: google-api-core[grpc]!=2.0.*,!=2.1.*,!=2.10.*,!=2.2.*,!=2.3.*,!=2.4.*,!=2.5.*,!=2.6.*,!=2.7.*,!=2.8.*,!=2.9.*,<3.0.0dev,>=1.34.0 in /usr/local/lib/python3.10/dist-packages (from google-cloud-dataproc) (2.11.0)\n",
      "Requirement already satisfied: proto-plus<2.0.0dev,>=1.22.0 in /usr/local/lib/python3.10/dist-packages (from google-cloud-dataproc) (1.22.2)\n",
      "Requirement already satisfied: protobuf!=3.20.0,!=3.20.1,!=4.21.0,!=4.21.1,!=4.21.2,!=4.21.3,!=4.21.4,!=4.21.5,<5.0.0dev,>=3.19.5 in /usr/local/lib/python3.10/dist-packages (from google-cloud-dataproc) (3.20.3)\n",
      "Collecting grpc-google-iam-v1<1.0.0dev,>=0.12.4 (from google-cloud-dataproc)\n",
      "  Downloading grpc_google_iam_v1-0.12.6-py2.py3-none-any.whl (26 kB)\n",
      "Requirement already satisfied: googleapis-common-protos<2.0dev,>=1.56.2 in /usr/local/lib/python3.10/dist-packages (from google-api-core[grpc]!=2.0.*,!=2.1.*,!=2.10.*,!=2.2.*,!=2.3.*,!=2.4.*,!=2.5.*,!=2.6.*,!=2.7.*,!=2.8.*,!=2.9.*,<3.0.0dev,>=1.34.0->google-cloud-dataproc) (1.59.0)\n",
      "Requirement already satisfied: google-auth<3.0dev,>=2.14.1 in /usr/local/lib/python3.10/dist-packages (from google-api-core[grpc]!=2.0.*,!=2.1.*,!=2.10.*,!=2.2.*,!=2.3.*,!=2.4.*,!=2.5.*,!=2.6.*,!=2.7.*,!=2.8.*,!=2.9.*,<3.0.0dev,>=1.34.0->google-cloud-dataproc) (2.17.3)\n",
      "Requirement already satisfied: requests<3.0.0dev,>=2.18.0 in /usr/local/lib/python3.10/dist-packages (from google-api-core[grpc]!=2.0.*,!=2.1.*,!=2.10.*,!=2.2.*,!=2.3.*,!=2.4.*,!=2.5.*,!=2.6.*,!=2.7.*,!=2.8.*,!=2.9.*,<3.0.0dev,>=1.34.0->google-cloud-dataproc) (2.27.1)\n",
      "Requirement already satisfied: grpcio<2.0dev,>=1.33.2 in /usr/local/lib/python3.10/dist-packages (from google-api-core[grpc]!=2.0.*,!=2.1.*,!=2.10.*,!=2.2.*,!=2.3.*,!=2.4.*,!=2.5.*,!=2.6.*,!=2.7.*,!=2.8.*,!=2.9.*,<3.0.0dev,>=1.34.0->google-cloud-dataproc) (1.54.0)\n",
      "Requirement already satisfied: grpcio-status<2.0dev,>=1.33.2 in /usr/local/lib/python3.10/dist-packages (from google-api-core[grpc]!=2.0.*,!=2.1.*,!=2.10.*,!=2.2.*,!=2.3.*,!=2.4.*,!=2.5.*,!=2.6.*,!=2.7.*,!=2.8.*,!=2.9.*,<3.0.0dev,>=1.34.0->google-cloud-dataproc) (1.48.2)\n",
      "Requirement already satisfied: cachetools<6.0,>=2.0.0 in /usr/local/lib/python3.10/dist-packages (from google-auth<3.0dev,>=2.14.1->google-api-core[grpc]!=2.0.*,!=2.1.*,!=2.10.*,!=2.2.*,!=2.3.*,!=2.4.*,!=2.5.*,!=2.6.*,!=2.7.*,!=2.8.*,!=2.9.*,<3.0.0dev,>=1.34.0->google-cloud-dataproc) (5.3.0)\n",
      "Requirement already satisfied: pyasn1-modules>=0.2.1 in /usr/local/lib/python3.10/dist-packages (from google-auth<3.0dev,>=2.14.1->google-api-core[grpc]!=2.0.*,!=2.1.*,!=2.10.*,!=2.2.*,!=2.3.*,!=2.4.*,!=2.5.*,!=2.6.*,!=2.7.*,!=2.8.*,!=2.9.*,<3.0.0dev,>=1.34.0->google-cloud-dataproc) (0.3.0)\n",
      "Requirement already satisfied: six>=1.9.0 in /usr/local/lib/python3.10/dist-packages (from google-auth<3.0dev,>=2.14.1->google-api-core[grpc]!=2.0.*,!=2.1.*,!=2.10.*,!=2.2.*,!=2.3.*,!=2.4.*,!=2.5.*,!=2.6.*,!=2.7.*,!=2.8.*,!=2.9.*,<3.0.0dev,>=1.34.0->google-cloud-dataproc) (1.16.0)\n",
      "Requirement already satisfied: rsa<5,>=3.1.4 in /usr/local/lib/python3.10/dist-packages (from google-auth<3.0dev,>=2.14.1->google-api-core[grpc]!=2.0.*,!=2.1.*,!=2.10.*,!=2.2.*,!=2.3.*,!=2.4.*,!=2.5.*,!=2.6.*,!=2.7.*,!=2.8.*,!=2.9.*,<3.0.0dev,>=1.34.0->google-cloud-dataproc) (4.9)\n",
      "Requirement already satisfied: urllib3<1.27,>=1.21.1 in /usr/local/lib/python3.10/dist-packages (from requests<3.0.0dev,>=2.18.0->google-api-core[grpc]!=2.0.*,!=2.1.*,!=2.10.*,!=2.2.*,!=2.3.*,!=2.4.*,!=2.5.*,!=2.6.*,!=2.7.*,!=2.8.*,!=2.9.*,<3.0.0dev,>=1.34.0->google-cloud-dataproc) (1.26.15)\n",
      "Requirement already satisfied: certifi>=2017.4.17 in /usr/local/lib/python3.10/dist-packages (from requests<3.0.0dev,>=2.18.0->google-api-core[grpc]!=2.0.*,!=2.1.*,!=2.10.*,!=2.2.*,!=2.3.*,!=2.4.*,!=2.5.*,!=2.6.*,!=2.7.*,!=2.8.*,!=2.9.*,<3.0.0dev,>=1.34.0->google-cloud-dataproc) (2022.12.7)\n",
      "Requirement already satisfied: charset-normalizer~=2.0.0 in /usr/local/lib/python3.10/dist-packages (from requests<3.0.0dev,>=2.18.0->google-api-core[grpc]!=2.0.*,!=2.1.*,!=2.10.*,!=2.2.*,!=2.3.*,!=2.4.*,!=2.5.*,!=2.6.*,!=2.7.*,!=2.8.*,!=2.9.*,<3.0.0dev,>=1.34.0->google-cloud-dataproc) (2.0.12)\n",
      "Requirement already satisfied: idna<4,>=2.5 in /usr/local/lib/python3.10/dist-packages (from requests<3.0.0dev,>=2.18.0->google-api-core[grpc]!=2.0.*,!=2.1.*,!=2.10.*,!=2.2.*,!=2.3.*,!=2.4.*,!=2.5.*,!=2.6.*,!=2.7.*,!=2.8.*,!=2.9.*,<3.0.0dev,>=1.34.0->google-cloud-dataproc) (3.4)\n",
      "Requirement already satisfied: pyasn1<0.6.0,>=0.4.6 in /usr/local/lib/python3.10/dist-packages (from pyasn1-modules>=0.2.1->google-auth<3.0dev,>=2.14.1->google-api-core[grpc]!=2.0.*,!=2.1.*,!=2.10.*,!=2.2.*,!=2.3.*,!=2.4.*,!=2.5.*,!=2.6.*,!=2.7.*,!=2.8.*,!=2.9.*,<3.0.0dev,>=1.34.0->google-cloud-dataproc) (0.5.0)\n",
      "Installing collected packages: grpc-google-iam-v1, google-cloud-dataproc\n",
      "Successfully installed google-cloud-dataproc-5.4.1 grpc-google-iam-v1-0.12.6\n"
     ]
    },
    {
     "data": {
      "application/vnd.colab-display-data+json": {
       "pip_warning": {
        "packages": [
         "google"
        ]
       }
      }
     },
     "metadata": {},
     "output_type": "display_data"
    }
   ],
   "source": [
    "!pip install google-cloud-dataproc"
   ]
  },
  {
   "cell_type": "code",
   "execution_count": 14,
   "metadata": {
    "colab": {
     "base_uri": "https://localhost:8080/"
    },
    "id": "pysIeU5ZkXC_",
    "outputId": "f7ce76ca-2d35-40c8-83c0-a586dc1ef3a0"
   },
   "outputs": [
    {
     "name": "stdout",
     "output_type": "stream",
     "text": [
      "Go to the following link in your browser:\n",
      "\n",
      "    https://accounts.google.com/o/oauth2/auth?response_type=code&client_id=32555940559.apps.googleusercontent.com&redirect_uri=https%3A%2F%2Fsdk.cloud.google.com%2Fauthcode.html&scope=openid+https%3A%2F%2Fwww.googleapis.com%2Fauth%2Fuserinfo.email+https%3A%2F%2Fwww.googleapis.com%2Fauth%2Fcloud-platform+https%3A%2F%2Fwww.googleapis.com%2Fauth%2Fappengine.admin+https%3A%2F%2Fwww.googleapis.com%2Fauth%2Fsqlservice.login+https%3A%2F%2Fwww.googleapis.com%2Fauth%2Fcompute+https%3A%2F%2Fwww.googleapis.com%2Fauth%2Faccounts.reauth&state=Zc6HKz6pAGkzlVoU9kJyvglTIwlyV5&prompt=consent&access_type=offline&code_challenge=jX7U30EPvDU99QRIY6vfeW801ze7HaPwbOQZpEZgkFY&code_challenge_method=S256\n",
      "\n",
      "Enter authorization code: 4/0AbUR2VPqzUzJNiUFKOqkSxJlvdD4iV4U-dURF-ROj03DeUix7D7fU3Sw3rddVQsaoZ0Z1w\n",
      "\n",
      "You are now logged in as [zhiyuan.jin1201@gmail.com].\n",
      "Your current project is [None].  You can change this setting by running:\n",
      "  $ gcloud config set project PROJECT_ID\n"
     ]
    }
   ],
   "source": [
    "!gcloud auth login"
   ]
  },
  {
   "cell_type": "code",
   "execution_count": 15,
   "metadata": {
    "colab": {
     "base_uri": "https://localhost:8080/"
    },
    "id": "ixWzR6eblxMt",
    "outputId": "b131d2f1-63c3-4484-d2b0-2d3eb7fb1c8b"
   },
   "outputs": [
    {
     "name": "stdout",
     "output_type": "stream",
     "text": [
      "PROJECT_ID            NAME              PROJECT_NUMBER\n",
      "bda-12345             bda-12345         369021837527\n",
      "directed-will-384217  My First Project  913257743120\n"
     ]
    }
   ],
   "source": [
    "!gcloud projects list"
   ]
  },
  {
   "cell_type": "code",
   "execution_count": 16,
   "metadata": {
    "colab": {
     "base_uri": "https://localhost:8080/"
    },
    "id": "ka9IZeDXl9IF",
    "outputId": "94100f56-1a6b-4510-aefc-59c382a63f90"
   },
   "outputs": [
    {
     "name": "stdout",
     "output_type": "stream",
     "text": [
      "Updated property [core/project].\n",
      "Updated property [compute/region].\n",
      "Updated property [compute/zone].\n",
      "Updated property [dataproc/region].\n"
     ]
    }
   ],
   "source": [
    "!gcloud config set project bda-12345\n",
    "!gcloud config set compute/region us-west1\n",
    "!gcloud config set compute/zone us-west1-a\n",
    "!gcloud config set dataproc/region us-west1"
   ]
  },
  {
   "cell_type": "code",
   "execution_count": 17,
   "metadata": {
    "colab": {
     "base_uri": "https://localhost:8080/"
    },
    "id": "vcIMTtOOmoMd",
    "outputId": "2cc675b7-ee3c-4bf3-a8a9-fd0057cc86e1"
   },
   "outputs": [
    {
     "name": "stdout",
     "output_type": "stream",
     "text": [
      "Waiting on operation [projects/bda-12345/regions/us-west1/operations/15c45f85-43ab-37b9-b9be-031d676cd33d].\n",
      "\n",
      "\u001b[1;33mWARNING:\u001b[0m Consider using Auto Zone rather than selecting a zone manually. See https://cloud.google.com/dataproc/docs/concepts/configuring-clusters/auto-zone\n",
      "\u001b[1;33mWARNING:\u001b[0m Failed to validate permissions required for default service account: '369021837527-compute@developer.gserviceaccount.com'. Cluster creation could still be successful if required permissions have been granted to the respective service accounts as mentioned in the document https://cloud.google.com/dataproc/docs/concepts/configuring-clusters/service-accounts#dataproc_service_accounts_2. This could be due to Cloud Resource Manager API hasn't been enabled in your project '369021837527' before or it is disabled. Enable it by visiting 'https://console.developers.google.com/apis/api/cloudresourcemanager.googleapis.com/overview?project=369021837527'.\n",
      "\u001b[1;33mWARNING:\u001b[0m For PD-Standard without local SSDs, we strongly recommend provisioning 1TB or larger to ensure consistently high I/O performance. See https://cloud.google.com/compute/docs/disks/performance for information on disk I/O performance.\n",
      "Created [https://dataproc.googleapis.com/v1/projects/bda-12345/regions/us-west1/clusters/bdm-hw3] Cluster placed in zone [us-west1-a].\n"
     ]
    }
   ],
   "source": [
    "!gcloud dataproc clusters create bdm-hw3 --enable-component-gateway --region us-west1 --zone us-west1-a --master-machine-type n1-standard-4 --master-boot-disk-size 500 --num-workers 2 --worker-machine-type n1-standard-4 --worker-boot-disk-size 500 --image-version 2.0-debian10 --project bda-12345"
   ]
  },
  {
   "cell_type": "code",
   "execution_count": 18,
   "metadata": {
    "colab": {
     "base_uri": "https://localhost:8080/"
    },
    "id": "hYXsIhZ15tw1",
    "outputId": "7ea9c102-3086-4090-c186-51e1a6fd80d2"
   },
   "outputs": [
    {
     "name": "stdout",
     "output_type": "stream",
     "text": [
      "NAME     PLATFORM  WORKER_COUNT  PREEMPTIBLE_WORKER_COUNT  STATUS   ZONE        SCHEDULED_DELETE\n",
      "bdm-hw3  GCE       2                                       RUNNING  us-west1-a\n"
     ]
    }
   ],
   "source": [
    "!gcloud dataproc clusters list"
   ]
  },
  {
   "cell_type": "code",
   "execution_count": 19,
   "metadata": {
    "colab": {
     "base_uri": "https://localhost:8080/"
    },
    "id": "TeEbxnVlq7pr",
    "outputId": "1373f749-5f99-4594-9311-26efe0fbd0c4"
   },
   "outputs": [
    {
     "name": "stdout",
     "output_type": "stream",
     "text": [
      "Writing BDM_HW3_23499013_Jin.py\n"
     ]
    }
   ],
   "source": [
    "%%writefile BDM_HW3_23499013_Jin.py\n",
    "#!/usr/bin/python\n",
    "COMPLAINTS = 'gs://bdma/data/complaints.csv'\n",
    "import pyspark\n",
    "from pyspark.sql import SparkSession\n",
    "from pyspark.sql import functions as F\n",
    "from pyspark.sql import types as T\n",
    "sc = pyspark.SparkContext.getOrCreate()\n",
    "spark = SparkSession.builder.getOrCreate()\n",
    "dt = sc.textFile(COMPLAINTS, use_unicode=True).cache()\n",
    "\n",
    "def combine(part_id,rows):\n",
    "    if part_id == 0:\n",
    "        next(rows)\n",
    "    reserve = ''\n",
    "    for row in rows:\n",
    "        if row[:4].isnumeric()==True:\n",
    "            if len(reserve)>0:\n",
    "                yield reserve\n",
    "            reserve = row\n",
    "        else:\n",
    "            reserve+=row\n",
    "\n",
    "import re\n",
    "def modify(row):\n",
    "    pattern = r'\"[^\"]*\"'\n",
    "    matches = re.finditer(pattern,row)\n",
    "    positions = []\n",
    "    for match in matches:\n",
    "        positions.append((match.start(), match.end()))\n",
    "    # change all the commas-',' in the quotation mark to _, so that I can split with comma later on.\n",
    "    # and use the modified sentence in the quotation mark to replace the original sentence in the quotation mark.\n",
    "    quot_modified = []\n",
    "    if len(positions)>0:\n",
    "        for x in positions:\n",
    "            target_quot = row[x[0]:x[1]]\n",
    "            replacement_quot = re.sub(\",\",\"_\", target_quot) \n",
    "            quot_modified.append((replacement_quot,x))\n",
    "        output_row = row\n",
    "        for y in quot_modified:\n",
    "            output_row = output_row[:y[1][0]]+y[0]+output_row[y[1][1]:]\n",
    "        return output_row.lower()\n",
    "    else:\n",
    "        return row.lower()\n",
    "\n",
    "task1 = dt.mapPartitionsWithIndex(combine)\\\n",
    "        .map(modify)\\\n",
    "        .map(lambda x: x.split(','))\\\n",
    "        .map(lambda x: ((x[0][:4],x[1],x[7]),1))\n",
    "\n",
    "def remove_quot(row):\n",
    "    if row==none:\n",
    "      pass\n",
    "    elif row[0][0].isalpha():\n",
    "        return ','.join(row)\n",
    "    else:\n",
    "        out = [row[0][1:-1],row[1],row[2],row[3],row[4]]\n",
    "        return ','.join(out)\n",
    "        \n",
    "outputTask1 = task1.groupByKey()\\\n",
    "        .mapValues(lambda x: sum(x))\\\n",
    "        .map(lambda x: ((x[0][0],x[0][1]),(x[1],1)))\\\n",
    "        .groupByKey()\\\n",
    "        .mapValues(lambda x: (sum([a[0] for a in x]),max([a[0] for a in x]),sum([a[1] for a in x])))\\\n",
    "        .map(lambda x: [x[0][1],x[0][0],str(x[1][0]),str(x[1][2]),str(round(100*x[1][1]/x[1][0],0))[:-2]])\\\n",
    "        .map(remove_quot)\\\n",
    "        .sortBy(lambda x: x)\n",
    "outputTask1.saveAsTextFile('gs://bdma/shared/2023_spring/HW3/23499013_Jin/report.csv')"
   ]
  },
  {
   "cell_type": "code",
   "execution_count": 20,
   "metadata": {
    "id": "_vJLVnch4-5t"
   },
   "outputs": [],
   "source": [
    "!gcloud dataproc jobs submit pyspark --cluster bdm-hw3 BDM_HW3_23499013_Jin.py -- gs://bdma/data/complaints.csv gs://bdma/shared/2023_spring/HW3/23499013_Jin"
   ]
  },
  {
   "cell_type": "code",
   "execution_count": 20,
   "metadata": {
    "id": "GSc4tuXZ5pjp"
   },
   "outputs": [],
   "source": [
    "!gsutil ls gs://bdma/shared/2023_spring/HW3/"
   ]
  },
  {
   "cell_type": "code",
   "execution_count": null,
   "metadata": {
    "id": "MkiRKMrv5drE"
   },
   "outputs": [],
   "source": []
  }
 ],
 "metadata": {
  "colab": {
   "provenance": [],
   "toc_visible": true
  },
  "kernelspec": {
   "display_name": "Python 3 (ipykernel)",
   "language": "python",
   "name": "python3"
  },
  "language_info": {
   "codemirror_mode": {
    "name": "ipython",
    "version": 3
   },
   "file_extension": ".py",
   "mimetype": "text/x-python",
   "name": "python",
   "nbconvert_exporter": "python",
   "pygments_lexer": "ipython3",
   "version": "3.10.11"
  }
 },
 "nbformat": 4,
 "nbformat_minor": 1
}
